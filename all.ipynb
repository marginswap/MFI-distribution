{
  "cells":[
    {
      "cell_type":"code",
      "source":[
        "import pandas as pd, matplotlib.pyplot as plt\n",
        "%matplotlib inline\n",
        "pd.options.display.float_format = \"{:,.3f}\".format\n",
        "\n",
        "df = pd.read_csv('distributions_final_csv.csv')\n",
        "\n",
        "df = df.rename(columns ={'Unnamed: 0': 'Date'})\n",
        "\n",
        "df['Marketing, Bounty, Treasury'] = df['Marketing, Bounty, Treasury'].fillna(0)\n",
        "df['Team Token'] = df['Team Token'].fillna(0)\n",
        "\n",
        "index, count, total_circulation, a = 0, 981, [], 5000000\n",
        "while count>0:\n",
        "    a += df.iloc[index]['MFI Daily Distribution'] + df.iloc[index]['Marketing, Bounty, Treasury'] + df.iloc[index]['Team Token']\n",
        "    total_circulation.append(a)\n",
        "    index+=1\n",
        "    count-=1\n",
        "\n",
        "df['Total Circulation'] = total_circulation\n",
        "df.tail()"
      ],
      "execution_count":4,
      "outputs":[
        {
          "data":{
            "text\/html":[
              "<div>\n",
              "<style scoped>\n",
              "    .dataframe tbody tr th:only-of-type {\n",
              "        vertical-align: middle;\n",
              "    }\n",
              "\n",
              "    .dataframe tbody tr th {\n",
              "        vertical-align: top;\n",
              "    }\n",
              "\n",
              "    .dataframe thead th {\n",
              "        text-align: right;\n",
              "    }\n",
              "<\/style>\n",
              "<table border=\"1\" class=\"dataframe\">\n",
              "  <thead>\n",
              "    <tr style=\"text-align: right;\">\n",
              "      <th><\/th>\n",
              "      <th>Date<\/th>\n",
              "      <th>DAY<\/th>\n",
              "      <th>MFI Daily Distribution<\/th>\n",
              "      <th>Marketing, Bounty, Treasury<\/th>\n",
              "      <th>Team Token<\/th>\n",
              "      <th>Total Circulation<\/th>\n",
              "    <\/tr>\n",
              "  <\/thead>\n",
              "  <tbody>\n",
              "    <tr>\n",
              "      <th>976<\/th>\n",
              "      <td>2023-11-05<\/td>\n",
              "      <td>977<\/td>\n",
              "      <td>1,506.526<\/td>\n",
              "      <td>0<\/td>\n",
              "      <td>0<\/td>\n",
              "      <td>9,994,980.981<\/td>\n",
              "    <\/tr>\n",
              "    <tr>\n",
              "      <th>977<\/th>\n",
              "      <td>2023-11-06<\/td>\n",
              "      <td>978<\/td>\n",
              "      <td>1,505.019<\/td>\n",
              "      <td>0<\/td>\n",
              "      <td>0<\/td>\n",
              "      <td>9,996,486.000<\/td>\n",
              "    <\/tr>\n",
              "    <tr>\n",
              "      <th>978<\/th>\n",
              "      <td>2023-11-07<\/td>\n",
              "      <td>979<\/td>\n",
              "      <td>1,503.514<\/td>\n",
              "      <td>0<\/td>\n",
              "      <td>0<\/td>\n",
              "      <td>9,997,989.514<\/td>\n",
              "    <\/tr>\n",
              "    <tr>\n",
              "      <th>979<\/th>\n",
              "      <td>2023-11-08<\/td>\n",
              "      <td>980<\/td>\n",
              "      <td>1,502.010<\/td>\n",
              "      <td>0<\/td>\n",
              "      <td>0<\/td>\n",
              "      <td>9,999,491.525<\/td>\n",
              "    <\/tr>\n",
              "    <tr>\n",
              "      <th>980<\/th>\n",
              "      <td>2023-11-09<\/td>\n",
              "      <td>981<\/td>\n",
              "      <td>508.475<\/td>\n",
              "      <td>0<\/td>\n",
              "      <td>0<\/td>\n",
              "      <td>10,000,000.000<\/td>\n",
              "    <\/tr>\n",
              "  <\/tbody>\n",
              "<\/table>\n",
              "<\/div>"
            ]
          },
          "metadata":{
            
          },
          "output_type":"display_data"
        }
      ],
      "metadata":{
        
      }
    },
    {
      "cell_type":"code",
      "source":[
        "plt.plot(df['DAY'], df['MFI Daily Distribution'])\n",
        "plt.xlabel('Day')\n",
        "plt.ylabel('MFI')\n",
        "plt.title('MFI Incentive Distribution Curve')\n",
        "plt.show()"
      ],
      "execution_count":5,
      "outputs":[
        {
          "data":{
            "image\/png":"[encoded data removed]"
          },
          "metadata":{
            "image\/png":{
              "width":0,
              "height":0
            }
          },
          "output_type":"display_data"
        }
      ],
      "metadata":{
        
      }
    },
    {
      "cell_type":"code",
      "source":[
        "plt.plot(df['DAY'], df['Total Circulation'])\n",
        "plt.xlabel('Day')\n",
        "plt.ylabel('Total Circulation')\n",
        "plt.title('Total Circulation Curve')\n",
        "plt.show()"
      ],
      "execution_count":8,
      "outputs":[
        {
          "data":{
            "image\/png":"[encoded data removed]"
          },
          "metadata":{
            "image\/png":{
              "width":0,
              "height":0
            }
          },
          "output_type":"display_data"
        }
      ],
      "metadata":{
        
      }
    },
    {
      "cell_type":"code",
      "source":[
        "df.to_csv('distributions_final1.csv')"
      ],
      "execution_count":9,
      "outputs":[
        
      ],
      "metadata":{
        
      }
    }
  ],
  "metadata":{
    
  },
  "nbformat":4,
  "nbformat_minor":0
}